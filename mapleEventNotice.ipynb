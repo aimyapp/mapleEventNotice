{
  "nbformat": 4,
  "nbformat_minor": 0,
  "metadata": {
    "colab": {
      "provenance": [],
      "authorship_tag": "ABX9TyMmG8h5ShFuBzl800erLNjQ",
      "include_colab_link": true
    },
    "kernelspec": {
      "name": "python3",
      "display_name": "Python 3"
    },
    "language_info": {
      "name": "python"
    }
  },
  "cells": [
    {
      "cell_type": "markdown",
      "metadata": {
        "id": "view-in-github",
        "colab_type": "text"
      },
      "source": [
        "<a href=\"https://colab.research.google.com/github/aimyapp/mapleEventNotice/blob/main/mapleEventNotice.ipynb\" target=\"_parent\"><img src=\"https://colab.research.google.com/assets/colab-badge.svg\" alt=\"Open In Colab\"/></a>"
      ]
    },
    {
      "cell_type": "code",
      "source": [
        "#@title System Setup\n",
        "import subprocess\n",
        "\n",
        "subprocess.run(\"pip install selenium\", shell=True, check=True)\n",
        "subprocess.run(\"sudo apt -y update\", shell=True, check=True)\n",
        "subprocess.run(\"apt-get install libvulkan1\", shell=True, check=True)\n",
        "subprocess.run(\"sudo apt -f install\", shell=True, check=True)\n",
        "subprocess.run(\"sudo apt install -y wget curl unzip\", shell=True, check=True)\n",
        "subprocess.run(\"wget http://archive.ubuntu.com/ubuntu/pool/main/libu/libu2f-host/libu2f-udev_1.1.4-1_all.deb\", shell=True, check=True)\n",
        "subprocess.run(\"dpkg -i libu2f-udev_1.1.4-1_all.deb\", shell=True, check=True)\n",
        "subprocess.run(\"wget https://dl.google.com/linux/direct/google-chrome-stable_current_amd64.deb\", shell=True, check=True)\n",
        "subprocess.run(\"dpkg -i google-chrome-stable_current_amd64.deb\", shell=True, check=True)\n",
        "subprocess.run(\"wget -N https://storage.googleapis.com/chrome-for-testing-public/130.0.6723.116/linux64/chromedriver-linux64.zip -P /tmp/\", shell=True, check=True)\n",
        "subprocess.run(\"unzip -o /tmp/chromedriver-linux64.zip -d /tmp/\", shell=True, check=True)\n",
        "subprocess.run(\"chmod +x /tmp/chromedriver-linux64/chromedriver\", shell=True, check=True)\n",
        "subprocess.run(\"mv /tmp/chromedriver-linux64/chromedriver /usr/local/bin/chromedriver\", shell=True, check=True)"
      ],
      "metadata": {
        "colab": {
          "base_uri": "https://localhost:8080/"
        },
        "id": "pvKQcBEB0XoU",
        "outputId": "b813c350-e0cd-4852-87a6-29c24a9d5e6d"
      },
      "execution_count": 1,
      "outputs": [
        {
          "output_type": "execute_result",
          "data": {
            "text/plain": [
              "CompletedProcess(args='mv /tmp/chromedriver-linux64/chromedriver /usr/local/bin/chromedriver', returncode=0)"
            ]
          },
          "metadata": {},
          "execution_count": 1
        }
      ]
    },
    {
      "cell_type": "code",
      "source": [
        "#@title Confirm Version\n",
        "!google-chrome --version\n",
        "!chromedriver --version"
      ],
      "metadata": {
        "colab": {
          "base_uri": "https://localhost:8080/"
        },
        "id": "ueAbwht50cez",
        "outputId": "ffa3a2b2-452c-445f-a76b-603fbca698d7"
      },
      "execution_count": 2,
      "outputs": [
        {
          "output_type": "stream",
          "name": "stdout",
          "text": [
            "Google Chrome 131.0.6778.85 \n",
            "ChromeDriver 130.0.6723.116 (6ac35f94ae3d01152cf1946c896b0678e48f8ec4-refs/branch-heads/6723@{#1764})\n"
          ]
        }
      ]
    },
    {
      "cell_type": "code",
      "source": [
        "#@title Main Feature\n",
        "import os\n",
        "import requests\n",
        "from selenium import webdriver\n",
        "from selenium.webdriver.common.by import By\n",
        "from selenium.webdriver.chrome.service import Service\n",
        "from selenium.webdriver.chrome.options import Options\n",
        "from selenium.webdriver.common.keys import Keys\n",
        "from time import sleep\n",
        "from google.colab import userdata\n",
        "\n",
        "# Chromeオプションの設定\n",
        "chrome_options = Options()\n",
        "chrome_options.add_argument('--headless')\n",
        "chrome_options.add_argument('--no-sandbox')\n",
        "chrome_options.add_argument('--disable-dev-shm-usage')\n",
        "chrome_options.add_argument('--disable-gpu')\n",
        "chrome_options.add_argument('--remote-debugging-port=9222')\n",
        "\n",
        "# ChromeDriverのパスを設定\n",
        "chrome_service = Service('/usr/local/bin/chromedriver')\n",
        "\n",
        "# ブラウザを起動\n",
        "driver = webdriver.Chrome(service=chrome_service, options=chrome_options)\n",
        "\n",
        "# 指定されたURLを開く\n",
        "driver.get('https://maplestory.nexon.co.jp/notice/list/event/')\n",
        "\n",
        "# class=\"card-list\"の要素を取得\n",
        "card_list = driver.find_element(By.CLASS_NAME, 'card-list')\n",
        "\n",
        "# ul配下のすべてのli要素を取得\n",
        "list_items = card_list.find_elements(By.TAG_NAME, 'li')\n",
        "\n",
        "access_token = userdata.get('ACCESS_TOKEN')\n",
        "user_id = userdata.get('USER_ID')\n",
        "\n",
        "# 各li要素の情報を収集\n",
        "messages = []\n",
        "for item in list_items:\n",
        "    link = item.find_element(By.TAG_NAME, 'a')\n",
        "    href = link.get_attribute('href')\n",
        "    title = item.find_element(By.CLASS_NAME, 'title').text\n",
        "    date = item.find_element(By.CLASS_NAME, 'date').text\n",
        "    print(f\"Title: {title}\\nDate: {date}\\nLink: {href}\\n\")\n",
        "    messages.append(f\"{title}\\n{date}\\n{href}\\n\")\n",
        "\n",
        "# LINE Messaging APIを使って通知を送信\n",
        "headers = {\n",
        "    \"Authorization\": f\"Bearer {access_token}\",\n",
        "    \"Content-Type\": \"application/json\"\n",
        "}\n",
        "\n",
        "# お知らせ開始の挨拶\n",
        "data = {\n",
        "    \"to\": user_id,\n",
        "    \"messages\": [\n",
        "        {\n",
        "          \"type\":\"text\",\n",
        "          \"text\":\"開催中のイベントぷるー!!!!\"\n",
        "        }\n",
        "    ]\n",
        "}\n",
        "response = requests.post(\"https://api.line.me/v2/bot/message/push\", headers=headers, json=data)\n",
        "\n",
        "# 開催中のイベントを5件ごとに一つにまとめて送信\n",
        "for i in range(0, len(messages), 5):\n",
        "    batch = messages[i:i+5]\n",
        "    combined_message = \"\\n\".join(batch)\n",
        "    notice_data = {\n",
        "        \"to\": user_id,\n",
        "        \"messages\": [\n",
        "            {\n",
        "                \"type\": \"text\",\n",
        "                \"text\": combined_message\n",
        "            }\n",
        "        ]\n",
        "    }\n",
        "    response = requests.post(\"https://api.line.me/v2/bot/message/push\", headers=headers, json=notice_data)\n",
        "    print(response.status_code)\n",
        "    print(response.text)\n",
        "\n",
        "# ブラウザを終了\n",
        "driver.quit()\n"
      ],
      "metadata": {
        "id": "oGDYXPMN7XAW",
        "collapsed": true,
        "colab": {
          "base_uri": "https://localhost:8080/"
        },
        "outputId": "8332c218-20f4-43e1-ea7a-e9f93ad8f36c"
      },
      "execution_count": 3,
      "outputs": [
        {
          "output_type": "stream",
          "name": "stdout",
          "text": [
            "Title: ラッキードローキャンディー！\n",
            "Date: 11/20(水)~11/26(火)\n",
            "Link: https://maplestory.nexon.co.jp/notice/view/?alias=54e22dd67a2d41d08f0f7b3ae47f9b32&id=event\n",
            "\n",
            "Title: 走れ！ピッピープップーバンパーカー\n",
            "Date: 11/13(水)~11/26(火)\n",
            "Link: https://maplestory.nexon.co.jp/notice/view/?alias=ff18ebedefa247328dcdef7bb509e8e3&id=event\n",
            "\n",
            "Title: 空からオモチャのブロックが降ってきたら？\n",
            "Date: 11/13(水)~11/26(火)\n",
            "Link: https://maplestory.nexon.co.jp/notice/view/?alias=7e2b1e85ed4f41adaae2bfe55ce46f91&id=event\n",
            "\n",
            "Title: ドキドキクレーンゲーム(11/6更新)\n",
            "Date: 11/6(水)~11/26(火)\n",
            "Link: https://maplestory.nexon.co.jp/notice/view/?alias=8d804dcd205a446d970458dace232f98&id=event\n",
            "\n",
            "Title: 襲来！ブロックビシャスプラント\n",
            "Date: 11/6(水)~11/26(火)\n",
            "Link: https://maplestory.nexon.co.jp/notice/view/?alias=3bcd1bc174bb4d77b0807311aa1e49d6&id=event\n",
            "\n",
            "Title: 夜のサーカス団\n",
            "Date: 10/30(水)~11/26(火)\n",
            "Link: https://maplestory.nexon.co.jp/notice/view/?alias=db3ee225766645e1abce9e7a43a47a0e&id=event\n",
            "\n",
            "Title: タイムトラベルチケット\n",
            "Date: 10/30(水)~11/26(火)\n",
            "Link: https://maplestory.nexon.co.jp/notice/view/?alias=817862dc30084fce99f2044efb10e7fa&id=event\n",
            "\n",
            "Title: トントン！オモチャ工場\n",
            "Date: 10/30(水)~11/26(火)\n",
            "Link: https://maplestory.nexon.co.jp/notice/view/?alias=a666a42143cd43c39a1094768c0f1c68&id=event\n",
            "\n",
            "Title: シュピゲラの黄金馬車 後半\n",
            "Date: 10.30(水)~12.10(火)\n",
            "Link: https://maplestory.nexon.co.jp/notice/view/?alias=0ec52854a2454bc687ae3bb07cd61f5c&id=event\n",
            "\n",
            "Title: ルディブリアム花火フェスティバル\n",
            "Date: 10/30(水)~11/26(火)\n",
            "Link: https://maplestory.nexon.co.jp/notice/view/?alias=37964dbecac849a2bb97ed71801c960a&id=event\n",
            "\n",
            "200\n",
            "{\"sentMessages\":[{\"id\":\"535667085196919012\",\"quoteToken\":\"-FildJVO0dMyziDkhIqJZHpu0GAkYQkSs00K1UKRbp6nKKlI7_UR5WaNXaDNfvQZm8W3X4nspuL80780X0pPXAt0dRAcP_CYYb-rA4SVSJsWY82rqCfw3U6svlyAFpxNP3-D9cLDb7yYYZ_PMQl61w\"}]}\n",
            "200\n",
            "{\"sentMessages\":[{\"id\":\"535667085717012709\",\"quoteToken\":\"XixXqH74tmBJDqGbG0ZToIVX13dkuZxn5WSFNW3fZ-2LxL1-JBaIvzfokRMmNcsrQWVPiHbgPwv6oFtvgX9jOFEujUWqV2a-1SxQt3GVPf5WaYwpJL46k5UEEl4DmJiOJCoxRfDPNeqkkqgzOlBFmw\"}]}\n"
          ]
        }
      ]
    }
  ]
}