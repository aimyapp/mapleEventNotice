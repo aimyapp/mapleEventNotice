{
  "nbformat": 4,
  "nbformat_minor": 0,
  "metadata": {
    "colab": {
      "provenance": [],
      "toc_visible": true,
      "authorship_tag": "ABX9TyOLwdcERfvqq1I39LQWGlAW",
      "include_colab_link": true
    },
    "kernelspec": {
      "name": "python3",
      "display_name": "Python 3"
    },
    "language_info": {
      "name": "python"
    }
  },
  "cells": [
    {
      "cell_type": "markdown",
      "metadata": {
        "id": "view-in-github",
        "colab_type": "text"
      },
      "source": [
        "<a href=\"https://colab.research.google.com/github/aimyapp/mapleEventNotice/blob/main/mapleEventNotice.ipynb\" target=\"_parent\"><img src=\"https://colab.research.google.com/assets/colab-badge.svg\" alt=\"Open In Colab\"/></a>"
      ]
    },
    {
      "cell_type": "code",
      "source": [
        "#@title System Setup\n",
        "%%shell\n",
        "\n",
        "# 更新を実行\n",
        "pip install selenium\n",
        "sudo apt -y update\n",
        "apt-get install libvulkan1\n",
        "sudo apt-get -f install\n",
        "\n",
        "# ダウンロードのために必要なパッケージをインストール\n",
        "sudo apt install -y wget curl unzip\n",
        "# 以下はChromeの依存パッケージ\n",
        "wget http://archive.ubuntu.com/ubuntu/pool/main/libu/libu2f-host/libu2f-udev_1.1.4-1_all.deb\n",
        "dpkg -i libu2f-udev_1.1.4-1_all.deb\n",
        "\n",
        "# Chromeのインストール\n",
        "wget https://dl.google.com/linux/direct/google-chrome-stable_current_amd64.deb\n",
        "dpkg -i google-chrome-stable_current_amd64.deb\n",
        "\n",
        "# Chrome Driverのインストール\n",
        "wget -N https://storage.googleapis.com/chrome-for-testing-public/130.0.6723.116/linux64/chromedriver-linux64.zip -P /tmp/\n",
        "unzip -o /tmp/chromedriver-linux64.zip -d /tmp/\n",
        "\n",
        "chmod +x /tmp/chromedriver-linux64/chromedriver\n",
        "mv /tmp/chromedriver-linux64/chromedriver /usr/local/bin/chromedriver"
      ],
      "metadata": {
        "id": "pvKQcBEB0XoU"
      },
      "execution_count": null,
      "outputs": []
    },
    {
      "cell_type": "code",
      "source": [
        "#@title Confirm Version\n",
        "!google-chrome --version\n",
        "!chromedriver --version"
      ],
      "metadata": {
        "id": "ueAbwht50cez"
      },
      "execution_count": null,
      "outputs": []
    },
    {
      "cell_type": "code",
      "source": [
        "#@title Main Feature\n",
        "import os\n",
        "import requests\n",
        "from selenium import webdriver\n",
        "from selenium.webdriver.common.by import By\n",
        "from selenium.webdriver.chrome.service import Service\n",
        "from selenium.webdriver.chrome.options import Options\n",
        "from selenium.webdriver.common.keys import Keys\n",
        "from time import sleep\n",
        "from google.colab import userdata\n",
        "\n",
        "# Chromeオプションの設定\n",
        "chrome_options = Options()\n",
        "chrome_options.add_argument('--headless')\n",
        "chrome_options.add_argument('--no-sandbox')\n",
        "chrome_options.add_argument('--disable-dev-shm-usage')\n",
        "chrome_options.add_argument('--disable-gpu')\n",
        "chrome_options.add_argument('--remote-debugging-port=9222')\n",
        "\n",
        "# ChromeDriverのパスを設定\n",
        "chrome_service = Service('/usr/local/bin/chromedriver')\n",
        "\n",
        "# ブラウザを起動\n",
        "driver = webdriver.Chrome(service=chrome_service, options=chrome_options)\n",
        "\n",
        "# 指定されたURLを開く\n",
        "driver.get('https://maplestory.nexon.co.jp/notice/list/event/')\n",
        "\n",
        "# class=\"card-list\"の要素を取得\n",
        "card_list = driver.find_element(By.CLASS_NAME, 'card-list')\n",
        "\n",
        "# ul配下のすべてのli要素を取得\n",
        "list_items = card_list.find_elements(By.TAG_NAME, 'li')\n",
        "\n",
        "access_token = userdata.get('ACCESS_TOKEN')\n",
        "user_id = userdata.get('USER_ID')\n",
        "\n",
        "# 各li要素の情報を収集\n",
        "messages = []\n",
        "for item in list_items:\n",
        "    link = item.find_element(By.TAG_NAME, 'a')\n",
        "    href = link.get_attribute('href')\n",
        "    title = item.find_element(By.CLASS_NAME, 'title').text\n",
        "    date = item.find_element(By.CLASS_NAME, 'date').text\n",
        "    print(f\"Title: {title}\\nDate: {date}\\nLink: {href}\\n\")\n",
        "    messages.append(f\"{title}\\n{date}\\n{href}\\n\")\n",
        "\n",
        "# LINE Messaging APIを使って通知を送信\n",
        "headers = {\n",
        "    \"Authorization\": f\"Bearer {access_token}\",\n",
        "    \"Content-Type\": \"application/json\"\n",
        "}\n",
        "\n",
        "# お知らせ開始の挨拶\n",
        "data = {\n",
        "    \"to\": user_id,\n",
        "    \"messages\": [\n",
        "        {\n",
        "          \"type\":\"text\",\n",
        "          \"text\":\"開催中のイベントぷるー!!!!\"\n",
        "        }\n",
        "    ]\n",
        "}\n",
        "response = requests.post(\"https://api.line.me/v2/bot/message/push\", headers=headers, json=data)\n",
        "\n",
        "# 開催中のイベントを5件ごとに一つにまとめて送信\n",
        "for i in range(0, len(messages), 5):\n",
        "    batch = messages[i:i+5]\n",
        "    combined_message = \"\\n\".join(batch)\n",
        "    notice_data = {\n",
        "        \"to\": user_id,\n",
        "        \"messages\": [\n",
        "            {\n",
        "                \"type\": \"text\",\n",
        "                \"text\": combined_message\n",
        "            }\n",
        "        ]\n",
        "    }\n",
        "    response = requests.post(\"https://api.line.me/v2/bot/message/push\", headers=headers, json=notice_data)\n",
        "    print(response.status_code)\n",
        "    print(response.text)\n",
        "\n",
        "# ブラウザを終了\n",
        "driver.quit()\n"
      ],
      "metadata": {
        "id": "oGDYXPMN7XAW",
        "collapsed": true
      },
      "execution_count": null,
      "outputs": []
    }
  ]
}